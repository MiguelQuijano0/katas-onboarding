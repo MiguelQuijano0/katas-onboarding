{
 "cells": [
  {
   "cell_type": "markdown",
   "metadata": {},
   "source": [
    "Ejercicio1: Crear y usar listas de Python"
   ]
  },
  {
   "cell_type": "code",
   "execution_count": 2,
   "metadata": {},
   "outputs": [
    {
     "name": "stdout",
     "output_type": "stream",
     "text": [
      "['mercurio, venus, tierra, marte, jupiter, urano, saturno, neptuno']\n",
      "Pluto\n"
     ]
    }
   ],
   "source": [
    "planetas = ['mercurio, venus, tierra, marte, jupiter, urano, saturno, neptuno']\n",
    "print(planetas)\n",
    "\n",
    "planetas.append('Pluto')\n",
    "\n",
    "print(planetas[-1])"
   ]
  },
  {
   "cell_type": "markdown",
   "metadata": {},
   "source": [
    "Ejercicio 2: Trabajando con datos de una lista"
   ]
  },
  {
   "cell_type": "code",
   "execution_count": 11,
   "metadata": {},
   "outputs": [
    {
     "name": "stdout",
     "output_type": "stream",
     "text": [
      "estos planetas son los mas cercanos a Tierra\n",
      "['Mercurio', 'Venus']\n",
      "estos son los planetas mas lejanos a Tierra\n",
      "['Marte', 'Jupiter', 'Saturno', 'Neptuno']\n"
     ]
    }
   ],
   "source": [
    "planetas = ['Mercurio', 'Venus', 'Tierra', 'Marte', 'Jupiter', 'Saturno', 'Neptuno']\n",
    "planeta_buscar = input('Ingrese el nombre de un planeta (iniciando con la primera letra letra mayuscula)')\n",
    "buscador = planetas.index(planeta_buscar)\n",
    "\n",
    "print('estos planetas son los mas cercanos a ' + planeta_buscar)\n",
    "print(planetas[0:buscador])\n",
    "print('estos son los planetas mas lejanos a ' + planeta_buscar)\n",
    "print(planetas[buscador + 1:])\n"
   ]
  }
 ],
 "metadata": {
  "interpreter": {
   "hash": "a7309962c8f9165bf1a5f7e00c8595de458863f0f285b43dab4db5dd260737ff"
  },
  "kernelspec": {
   "display_name": "Python 3.10.2 64-bit",
   "language": "python",
   "name": "python3"
  },
  "language_info": {
   "codemirror_mode": {
    "name": "ipython",
    "version": 3
   },
   "file_extension": ".py",
   "mimetype": "text/x-python",
   "name": "python",
   "nbconvert_exporter": "python",
   "pygments_lexer": "ipython3",
   "version": "3.10.2"
  },
  "orig_nbformat": 4
 },
 "nbformat": 4,
 "nbformat_minor": 2
}
