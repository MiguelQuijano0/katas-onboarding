{
 "cells": [
  {
   "cell_type": "markdown",
   "metadata": {},
   "source": [
    "Ejercicio 1: Trabajar con argumentos en funciones"
   ]
  },
  {
   "cell_type": "code",
   "execution_count": 10,
   "metadata": {},
   "outputs": [
    {
     "name": "stdout",
     "output_type": "stream",
     "text": [
      "reporte de combustible:\n",
      "    promedio total: 78.33333333333333%\n",
      "    tanque principal: 80%\n",
      "    tanque secundario: 70%\n",
      "    tanque auxiliar: 85% \n",
      "    \n",
      "reporte de combustible:\n",
      "    promedio total: 78.0%\n",
      "    tanque principa: 88%\n",
      "    tanque secundario: 76%\n",
      "    tanque auxiliar: 70% \n",
      "    \n"
     ]
    }
   ],
   "source": [
    "def generar_reporte(tanque_principal, tanque_secundario, tanque_auxiliar):\n",
    "    promediototal = (tanque_principal + tanque_secundario + tanque_auxiliar) / 3\n",
    "    return f\"\"\"reporte de combustible:\n",
    "    promedio total: {promediototal}%\n",
    "    tanque principal: {tanque_principal}%\n",
    "    tanque secundario: {tanque_secundario}%\n",
    "    tanque auxiliar: {tanque_auxiliar}% \n",
    "    \"\"\"\n",
    "print(generar_reporte(80, 70, 85))\n",
    "def promedio(values):\n",
    "    total = sum(values)\n",
    "    numero_arituculos = len(values)\n",
    "    return total / numero_arituculos\n",
    "promedio([80, 85, 81])\n",
    "def generar_reporte(tanque_principal, tanque_secundario, tanque_auxiliar):\n",
    "    return f\"\"\"reporte de combustible:\n",
    "    promedio total: {promedio([tanque_principal, tanque_secundario, tanque_auxiliar])}%\n",
    "    tanque principa: {tanque_principal}%\n",
    "    tanque secundario: {tanque_secundario}%\n",
    "    tanque auxiliar: {tanque_auxiliar}% \n",
    "    \"\"\"\n",
    "print(generar_reporte(88, 76, 70))"
   ]
  },
  {
   "cell_type": "markdown",
   "metadata": {},
   "source": [
    "Ejercicio 2: Trabajo con argumentos de palabra clave"
   ]
  }
 ],
 "metadata": {
  "interpreter": {
   "hash": "a7309962c8f9165bf1a5f7e00c8595de458863f0f285b43dab4db5dd260737ff"
  },
  "kernelspec": {
   "display_name": "Python 3.10.2 64-bit",
   "language": "python",
   "name": "python3"
  },
  "language_info": {
   "codemirror_mode": {
    "name": "ipython",
    "version": 3
   },
   "file_extension": ".py",
   "mimetype": "text/x-python",
   "name": "python",
   "nbconvert_exporter": "python",
   "pygments_lexer": "ipython3",
   "version": "3.10.2"
  },
  "orig_nbformat": 4
 },
 "nbformat": 4,
 "nbformat_minor": 2
}
